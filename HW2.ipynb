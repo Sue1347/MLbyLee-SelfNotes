{
 "cells": [
  {
   "cell_type": "markdown",
   "metadata": {},
   "source": [
    "# Homework 2 classification"
   ]
  },
  {
   "cell_type": "markdown",
   "metadata": {},
   "source": [
    "### task: whether the income of an individual exceeds 50000 dollars or not?\n",
    "\n",
    "using the data of:\n",
    "\n",
    "processes:\n",
    "1. remove unnecessary sttributes\n",
    "2. create a model (gx>0, exceeds, <0, not) and the loss function\n",
    "3. conclusion"
   ]
  },
  {
   "cell_type": "code",
   "execution_count": 1,
   "metadata": {},
   "outputs": [],
   "source": [
    "import pandas as pd\n",
    "import numpy as np\n",
    "import matplotlib.pyplot as plt\n",
    "# data = pd.read_csv('./Documents/LeeML-datasets/hw2/data/train.csv')"
   ]
  },
  {
   "cell_type": "code",
   "execution_count": 2,
   "metadata": {},
   "outputs": [],
   "source": [
    "# data.head()"
   ]
  },
  {
   "cell_type": "markdown",
   "metadata": {},
   "source": [
    "## Logistic Regression 逻辑回归\n",
    "\n",
    "\n",
    "1. preparing data\n"
   ]
  },
  {
   "cell_type": "code",
   "execution_count": 53,
   "metadata": {},
   "outputs": [],
   "source": [
    "np.random.seed(0)\n",
    "X_train_fpath = './Documents/LeeML-datasets/hw2/data/X_train'\n",
    "Y_train_fpath = './Documents/LeeML-datasets/hw2/data/Y_train'\n",
    "X_test_fpath = './Documents/LeeML-datasets/hw2/data/X_test'\n",
    "output_fpath = './output_{}.csv'\n",
    "\n",
    "# using next function to read file, only read one line at a time???\n",
    "with open(X_train_fpath) as f:\n",
    "    next(f)\n",
    "    # using file as an iterator???\n",
    "    X_train = np.array([line.strip('\\n').split(',')[1:] for line in f], dtype = float)\n",
    "    # each line in file, strip off the end mark, and split them by comma, and view data as float\n",
    "\n",
    "with open(Y_train_fpath) as f:\n",
    "    next(f)\n",
    "    Y_train = np.array([line.strip('\\n').split(',')[1:] for line in f], dtype = float)\n",
    "with open(X_test_fpath) as f:\n",
    "    next(f)\n",
    "    X_test = np.array([line.strip('\\n').split(',')[1:] for line in f], dtype = float)\n"
   ]
  },
  {
   "cell_type": "markdown",
   "metadata": {},
   "source": [
    "2. functions preparation:\n",
    "\n",
    "    normalize the data, each x is processed by (x - x_mean) / x_std, and split data into training set and development set(validation set???)\n",
    "    \n",
    "    also: learning how to write a clear function, with parameters' and return values' details in annotations."
   ]
  },
  {
   "cell_type": "code",
   "execution_count": 54,
   "metadata": {},
   "outputs": [
    {
     "name": "stdout",
     "output_type": "stream",
     "text": [
      "Size of training set: 48830\n",
      "Size of development set: 5426\n",
      "Size of testing set: 27622\n",
      "Dimension of data: 510\n"
     ]
    }
   ],
   "source": [
    "def _normalize(X, train = True, specified_column = None, X_mean = None, X_std = None):\n",
    "    # This function normalizes specific column of X.\n",
    "    # The mean and standard variance of training data will be reused when processing testing data.\n",
    "    #\n",
    "    # Arguments (details):\n",
    "    #     X: data to be processed\n",
    "    #     train: 'True' when processing training data, 'False' for testing data\n",
    "    #     specified_column: if 'None', all columns will be normalized\n",
    "    #     omit the rest......\n",
    "    # Outputs:\n",
    "    #     X: normalized data\n",
    "    #     omit the rest......\n",
    "    \n",
    "    if specified_column == None:\n",
    "        specidied_column = np.arange(X.shape[1])\n",
    "        # arange means a range, provide spaced values within a given interval\n",
    "        # shape[1] means the columns count\n",
    "    if train:\n",
    "        X_mean = np.mean(X[:, specidied_column], 0).reshape(1,-1)\n",
    "        X_std = np.std(X[:, specidied_column], 0).reshape(1,-1)\n",
    "    \n",
    "    X[:, specified_column] = (X[:, specified_column] - X_mean) / (X_std + 1e-8)\n",
    "    # 1e-8, in case std is zero\n",
    "    \n",
    "    return X, X_mean, X_std\n",
    "\n",
    "def _train_dev_split(X, Y, dev_ratio = 0.25):\n",
    "    # This function splits data into training set and development set.\n",
    "    train_size = int(len(X) * (1 - dev_ratio))\n",
    "    return X[:train_size], Y[:train_size], X[train_size:], Y[train_size:]\n",
    "\n",
    "# Normalize training and testing data\n",
    "X_train, X_mean, X_std = _normalize(X_train, train = True)\n",
    "X_test, _, _ = _normalize(X_test, train = False, specified_column = None, X_mean = X_mean, X_std = X_std)\n",
    "\n",
    "# Split data into training and development set\n",
    "dev_ratio = 0.1\n",
    "X_train, Y_train, X_dev, Y_dev = _train_dev_split(X_train, Y_train, dev_ratio = dev_ratio)\n",
    "# now X_train is smaller and it is a part of original train set\n",
    "\n",
    "train_size = X_train.shape[0]\n",
    "dev_size = X_dev.shape[0]\n",
    "test_size = X_test.shape[0]\n",
    "data_dim = X_train.shape[1]\n",
    "print('Size of training set: {}'.format(train_size))\n",
    "print('Size of development set: {}'.format(dev_size))\n",
    "print('Size of testing set: {}'.format(test_size))\n",
    "print('Dimension of data: {}'.format(data_dim))\n",
    "#print('X_train content brief: {}'.format(X_train[:8][:50])) \n",
    "# apparently my normalizing has some errors, there are bigger than 1, and smaller than -1.\n",
    "# However,,, it is the probabilitic normalizing"
   ]
  },
  {
   "cell_type": "code",
   "execution_count": 4,
   "metadata": {},
   "outputs": [
    {
     "name": "stdout",
     "output_type": "stream",
     "text": [
      "(48830, 510)\n",
      "(48830, 1)\n"
     ]
    }
   ],
   "source": [
    "print(X_train.shape)\n",
    "print(Y_train.shape)"
   ]
  },
  {
   "cell_type": "markdown",
   "metadata": {},
   "source": [
    "### some useful Functions\n",
    "\n",
    " that will be repeatedly used when iteratively updating the parameters."
   ]
  },
  {
   "cell_type": "code",
   "execution_count": 55,
   "metadata": {},
   "outputs": [],
   "source": [
    "def _shuffle(X, Y):\n",
    "    # This function shuffles two equal-length list/array, X and Y, together.\n",
    "    randomize = np.arange(len(X))\n",
    "    np.random.shuffle(randomize)\n",
    "    return (X[randomize], Y[randomize])\n",
    "\n",
    "def _sigmoid(z):\n",
    "    # Sigmoid function can be used to calculate probability\n",
    "    # To avoid overflow, minimum/maximum output value is set.\n",
    "    # API application programming interface\n",
    "    # (clip function is used when it is smaller than 1e-8, it will be assigned to 1e-8.)\n",
    "#     z = np.abs(z)\n",
    "    # to avoid z is smaller than 0\n",
    "    return np.clip(1 / (1.0 + np.exp(-z)), 1e-8, 1 - (1e-8))\n",
    "\n",
    "def _f(X, w, b):\n",
    "#     This is the logictic regression function\n",
    "    \n",
    "#     Arguements:\n",
    "#         X: input data, shape = [batch_size, data_dimension]\n",
    "#         w: weight vector, shape = [data_dimension]\n",
    "#         b: bias, scalar\n",
    "#     Output:\n",
    "#         predicted probability of each row of X being positively labeled, shape = [batch_size, ]\n",
    "    return _sigmoid(np.matmul(X, w) + b)\n",
    "\n",
    "def _predict(X, w, b):\n",
    "    # This function returns a truth value prediction of each row of X\n",
    "    # by rounding the result of logistic regression function\n",
    "    return np.round(_f(X, w, b)).astype(np.int)\n",
    "\n",
    "def _accuracy(Y_pred, Y_label):\n",
    "    # This function calculates prediction accuracy\n",
    "    acc = 1 - np.mean(np.abs(Y_pred - Y_label))\n",
    "    return acc"
   ]
  },
  {
   "cell_type": "markdown",
   "metadata": {},
   "source": [
    "### Functions about gradient and cross entropy loss\n",
    "\n"
   ]
  },
  {
   "cell_type": "code",
   "execution_count": 56,
   "metadata": {},
   "outputs": [],
   "source": [
    "def _cross_entropy_loss(Y_pred, Y_label):\n",
    "#     This function computes the cross entropy\n",
    "    \n",
    "#     Arguements:\n",
    "#         Y_pred: probabilistic predictions, float vector\n",
    "#         Y_label: ground truth labels, bool vector\n",
    "#     Outputs:\n",
    "#         cross entropy, scalar\n",
    "    ones = np.ones((Y_pred.shape[0], 1),dtype = int)\n",
    "#     print('ones\\' shape: {}'.format(ones.shape))\n",
    "#     print('Y_label shape: {}'.format(Y_label.shape))\n",
    "#     print('Y_pred shape: {}'.format(Y_pred.shape))\n",
    "    \n",
    "    # This is a bad feature and a good convinience in python, I don't need to claim my data type, and I can be easily confused...\n",
    "    # if I changed the ones from (n,) to (n,1),I need to use matmul function\n",
    "    # cross_entropy = -np.dot(Y_label, np.log(Y_pred)) - np.dot((1 - Y_label), np.log(1 - Y_pred))\n",
    "    # can it be 1 or an array of 1?\n",
    "    # Is it because there are two possible results, so it is Y_label and (1 - Y_label) ???\n",
    "    # dot product of two arrays, matmul for matrix multiplication\n",
    "    \n",
    "    cross_entropy = -np.matmul(Y_label.T, np.log(Y_pred)) - np.matmul((ones - Y_label).T, np.log(ones - Y_pred))\n",
    "    # print('cross_entropy shape: {}'.format(cross_entropy.shape)) # 1 * 510\n",
    "    '''\n",
    "    it turns out that I miss-calculated this cross entropy's size, caused that every thing is based on the first weight,,,,\n",
    "    no wounder the results are all the same.\n",
    "    20210511: and ,,,,I also made a mistake in gradient, cross entropy should be (1,1) shape instead of (1*510)\n",
    "    '''\n",
    "    cross_en = np.sum(cross_entropy, 1)\n",
    "    \n",
    "    return cross_en[0] / 510\n",
    "\n",
    "def _gradient(X, Y_label, w, b):\n",
    "    # This function computes the gradient of cross entropy loss with respect to weight and bias.\n",
    "    Y_pred = _f(X, w, b)\n",
    "    pred_error = Y_label - Y_pred\n",
    "    w_grad = -np.sum(np.matmul(X.T, pred_error), 1) # -np.sum(pred_error * X.T,1)\n",
    "    # print('shape of X.T * pred_error: {}'.format(np.shape(np.matmul(X.T, pred_error))))\n",
    "    # X.T, returns the transpose of the matrix\n",
    "    w_grad = w_grad.reshape(data_dim,1)\n",
    "    '''\n",
    "    It is because I used np.sum,so w_grad is turned into a 1D array, \n",
    "    however the later calculation is all matrix, so I need to transform it into (510, 1)shape.\n",
    "    '''\n",
    "    b_grad = -np.sum(pred_error)\n",
    "    return w_grad, b_grad\n"
   ]
  },
  {
   "cell_type": "markdown",
   "metadata": {},
   "source": [
    "### Training\n",
    "\n",
    "Mini-batch gradient descent is used here.\n",
    "\n",
    "Training data are split into several mini-batches and each batch is fed into the model sequentially for losses and gradients computation.\n",
    "\n",
    "Weights and bias are updated on a mini-batch basis.\n",
    "\n",
    "Once we have gone through the whole training set, data have to reshuffled and continue, until max number of iterations is reached.\n"
   ]
  },
  {
   "cell_type": "code",
   "execution_count": 57,
   "metadata": {},
   "outputs": [
    {
     "name": "stdout",
     "output_type": "stream",
     "text": [
      "Training loss: 0.0005253379569813624\n",
      "Development loss: 0.0005607116557371383\n",
      "Training accuracy: 0.885398320704485\n",
      "Development accuracy: 0.8776262440103206\n"
     ]
    }
   ],
   "source": [
    "# _shuffle(X, Y) _f(X, w, b) \n",
    "# train_size = X_train.shape[0]\n",
    "# dev_size = X_dev.shape[0]\n",
    "# test_size = X_test.shape[0]\n",
    "# data_dim = X_train.shape[1]\n",
    "w = np.zeros((data_dim, 1))\n",
    "b = np.zeros((1, 1))\n",
    "\n",
    "# some parameters for training\n",
    "max_iter = 20\n",
    "batch_size = 8\n",
    "learning_rate = 0.2\n",
    "\n",
    "# Keep the loss and accuracy at every iteration for plotting\n",
    "train_loss = []\n",
    "dev_loss = []\n",
    "train_acc = []\n",
    "dev_acc = []\n",
    "\n",
    "# Calculate the number of parameter updates\n",
    "step = 1\n",
    "\n",
    "# Iterative training\n",
    "for epoch in range(max_iter):\n",
    "    # Random shuffle at the begining of each epoch\n",
    "    X_train, Y_train = _shuffle(X_train, Y_train)\n",
    "    \n",
    "    # Mini-batch training\n",
    "    for idx in range(int(np.floor(train_size / batch_size))):\n",
    "        # using batch size to splits set into batches\n",
    "        # choosing present batch\n",
    "        X = X_train[idx*batch_size : (idx + 1)*batch_size]\n",
    "        Y = Y_train[idx*batch_size : (idx + 1)*batch_size]\n",
    "        # only 8 a batch\n",
    "        \n",
    "        # Compute the gradient\n",
    "        \n",
    "        w_grad, b_grad = _gradient(X, Y, w, b)\n",
    "#         print('after gradient w_grad: {}'.format(w_grad.shape))\n",
    "        \n",
    "        # gradient descent update\n",
    "        # learning rate decay with time\n",
    "        w = w - learning_rate / np.sqrt(step) * w_grad\n",
    "        b = b - learning_rate / np.sqrt(step) * b_grad\n",
    "        \n",
    "        step = step + 1\n",
    "        \n",
    "    # Compute loss and accuracy of training set and development set\n",
    "    \n",
    "#     print('w: {}'.format(w.shape))\n",
    "#     print('b: {}'.format(b.shape))\n",
    "    y_train_pred = _f(X_train, w, b)\n",
    "    Y_train_pred = np.round(y_train_pred)\n",
    "    # y is a fraction, and Y is true or false\n",
    "    train_acc.append(_accuracy(Y_train_pred, Y_train))\n",
    "    train_loss.append(_cross_entropy_loss(y_train_pred, Y_train) / train_size)\n",
    "    \n",
    "    y_dev_pred = _f(X_dev, w, b)\n",
    "    Y_dev_pred = np.round(y_dev_pred)\n",
    "    dev_acc.append(_accuracy(Y_dev_pred, Y_dev))\n",
    "    dev_loss.append(_cross_entropy_loss(y_dev_pred, Y_dev) / dev_size)\n",
    "    \n",
    "print('Training loss: {}'.format(train_loss[-1]))\n",
    "print('Development loss: {}'.format(dev_loss[-1]))\n",
    "print('Training accuracy: {}'.format(train_acc[-1]))\n",
    "print('Development accuracy: {}'.format(dev_acc[-1]))\n",
    "    "
   ]
  },
  {
   "cell_type": "markdown",
   "metadata": {},
   "source": [
    "# Problems of logistic regression implementation:\n",
    "\n",
    "### OMG I just experienced an overflow with my sys can't work for a minute\n",
    "\n",
    "##### 1. showing this:\n",
    "RuntimeWarning: overflow encountered in exp\n",
    "  if sys.path[0] == '':\n",
    "  \n",
    "##### 2. when i use accuracy and cross entropy function:\n",
    "Unable to allocate 17.8 GiB for an array with shape (48830, 48830) and data type float64\n",
    "\n",
    "###### related code:"
   ]
  },
  {
   "cell_type": "code",
   "execution_count": 9,
   "metadata": {},
   "outputs": [
    {
     "data": {
      "text/plain": [
       "'\\nacc = 1 - np.mean(np.abs(Y_pred - Y_label))\\ncross_entropy = -np.dot(Y_label, np.log(Y_pred)) - np.dot((1 - Y_label), np.log(1 - Y_pred))\\nw_grad = -np.sum(np.matmul(X.T, pred_error)) # -np.sum(pred_error * X.T,1)\\n'"
      ]
     },
     "execution_count": 9,
     "metadata": {},
     "output_type": "execute_result"
    }
   ],
   "source": [
    "'''\n",
    "acc = 1 - np.mean(np.abs(Y_pred - Y_label))\n",
    "cross_entropy = -np.dot(Y_label, np.log(Y_pred)) - np.dot((1 - Y_label), np.log(1 - Y_pred))\n",
    "w_grad = -np.sum(np.matmul(X.T, pred_error)) # -np.sum(pred_error * X.T,1)\n",
    "'''"
   ]
  },
  {
   "cell_type": "markdown",
   "metadata": {},
   "source": [
    "#### Finally knoweledge some tricks:\n",
    "1. array vs matrix:\n",
    "\n",
    "    an array: one dim's shape is (n,)\n",
    "    \n",
    "    an matrix: two dim's shape is (n,1)\n",
    "    \n",
    "    I need to unify the shape of all mat, though the original answer used array, I used matrix to calculate them all......\n",
    "\n",
    "2. matrix multiplication:\n",
    "\n",
    "    pred_error shape: 8 * 1\n",
    "\n",
    "    X.T: 510 * 8\n",
    "\n",
    "    for each weight: using all 8 examples to calculate its gradient\n",
    "\n",
    "3. dot vs matmul function:\n",
    "\n",
    "    notice that dot is for array operation, matmul is for matrix multiplication\n",
    "\n",
    "4. cross entropy:\n",
    "\n",
    "    cross entropy need the sum of all (y_pred & y_label)\n",
    "\n",
    "    because I used matrix, so I need to sum them all.\n",
    "    \n",
    "5. sigmoid function:\n",
    "\n",
    "    I can't absolute the value...\n",
    "    \n",
    "6. np.sum function produces (n,) 1D array:\n",
    "    \n",
    "    I need to transform them into (1, 1) shape, because I changed all the related shape for being stupid.\n",
    "    \n",
    "#### still sometimes it will show: RuntimeWarning: overflow encountered in exp"
   ]
  },
  {
   "cell_type": "markdown",
   "metadata": {},
   "source": [
    "## OMG, I finally get through this crafts!!!!\n",
    "\n",
    "##### About the results: (ignoring the overfitting pobability)\n",
    "with (iteration, batch_size, learning_rate):\n",
    "\n",
    "with (10, 8, 0.2):\n",
    "\n",
    "Training loss: 0.0005301466016276826\n",
    "Development loss: 0.0005784212337425157\n",
    "Training accuracy: 0.8836553120804606\n",
    "Development accuracy: 0.8707761621953717\n",
    "\n",
    "with (20, 8, 0.2):\n",
    "\n",
    "Training loss: 0.0005202315116036872\n",
    "Development loss: 0.0005567861298706374\n",
    "Training accuracy: 0.8852936491683163\n",
    "Development accuracy: 0.8763055498668851\n",
    "**iteration more can bring better results**\n",
    "\n",
    "with (10, 8, 0.1):\n",
    "\n",
    "Training loss: 0.0005212379485006333\n",
    "Development loss: 0.0005670887760806337\n",
    "Training accuracy: 0.8862721004846748\n",
    "Development accuracy: 0.8769199262748311\n",
    "**smaller learning rate may be better**\n",
    "\n",
    "with (20, 8, 0.1):\n",
    "\n",
    "Training loss: 0.0005169539471113908\n",
    "Development loss: 0.0005577155160624136\n",
    "Training accuracy: 0.8862948551664505\n",
    "Development accuracy: 0.8756911734589392 \n",
    "**why? with iteration is bigger the development acc is a little lower**\n",
    "\n",
    "with (10, 800, 0.2):\n",
    "\n",
    "Training loss: 0.0022635963479965392\n",
    "Development loss: 0.0024438673516984457\n",
    "Training accuracy: 0.840057341798075\n",
    "Development accuracy: 0.8222404259676428\n",
    "**batch size can't be too big**\n",
    "\n",
    "with (10, 5, 0.2):\n",
    "\n",
    "Training loss: 0.000526964536633294\n",
    "Development loss: 0.0005648515688799896\n",
    "Training accuracy: 0.8852936491683163\n",
    "Development accuracy: 0.8703665779234078\n",
    "**batch size too small is also no good**"
   ]
  },
  {
   "cell_type": "markdown",
   "metadata": {},
   "source": [
    "### Plotting Loss and Accuracy Curve\n"
   ]
  },
  {
   "cell_type": "code",
   "execution_count": 28,
   "metadata": {},
   "outputs": [
    {
     "ename": "SyntaxError",
     "evalue": "(unicode error) 'unicodeescape' codec can't decode bytes in position 48-49: truncated \\uXXXX escape (<ipython-input-28-fdcdf9400eaa>, line 14)",
     "output_type": "error",
     "traceback": [
      "\u001b[1;36m  File \u001b[1;32m\"<ipython-input-28-fdcdf9400eaa>\"\u001b[1;36m, line \u001b[1;32m14\u001b[0m\n\u001b[1;33m    '''\u001b[0m\n\u001b[1;37m      ^\u001b[0m\n\u001b[1;31mSyntaxError\u001b[0m\u001b[1;31m:\u001b[0m (unicode error) 'unicodeescape' codec can't decode bytes in position 48-49: truncated \\uXXXX escape\n"
     ]
    }
   ],
   "source": [
    "# import sys\n",
    "# !{sys.executable} -m pip install matplotlib\n",
    "# why it can't work!!!!!??????\n",
    "# maybe it is because I open two kernels, for some reasons"
   ]
  },
  {
   "cell_type": "code",
   "execution_count": 44,
   "metadata": {},
   "outputs": [
    {
     "data": {
      "image/png": "[encoded data removed]",
      "text/plain": [
       "<Figure size 432x288 with 1 Axes>"
      ]
     },
     "metadata": {
      "needs_background": "light"
     },
     "output_type": "display_data"
    },
    {
     "data": {
      "image/png": "[encoded data removed]",
      "text/plain": [
       "<Figure size 432x288 with 1 Axes>"
      ]
     },
     "metadata": {
      "needs_background": "light"
     },
     "output_type": "display_data"
    }
   ],
   "source": [
    "\n",
    "# Loss curve\n",
    "plt.plot(train_loss)\n",
    "plt.plot(dev_loss)\n",
    "plt.title('Loss')\n",
    "plt.legend(['train','dev'])\n",
    "plt.savefig('loss.png')\n",
    "plt.show()\n",
    "\n",
    "# Accuracy curve\n",
    "plt.plot(train_acc)\n",
    "plt.plot(dev_acc)\n",
    "plt.title('Accuracy')\n",
    "plt.legend(['train','dev'])\n",
    "plt.savefig('acc.png')\n",
    "plt.show()\n"
   ]
  },
  {
   "cell_type": "markdown",
   "metadata": {},
   "source": [
    "with lower learning rate, though, train data will be better, the dev data will be a mess.\n",
    "\n",
    "so I still choose the (20, 8, 0.2) set."
   ]
  },
  {
   "cell_type": "markdown",
   "metadata": {},
   "source": [
    "### Predicting testing labels\n",
    "\n",
    "predictions are saved to output_logistic.csv."
   ]
  },
  {
   "cell_type": "code",
   "execution_count": 58,
   "metadata": {},
   "outputs": [
    {
     "name": "stdout",
     "output_type": "stream",
     "text": [
      " Not in universe -3.815324552342815\n",
      " Spouse of householder -1.6340384205593481\n",
      " Other Rel <18 never married RP of subfamily -1.4214203744319514\n",
      " Child 18+ ever marr Not in a subfamily -1.2970646036647804\n",
      " Other Rel <18 ever marr RP of subfamily -1.1699963394925046\n",
      " Unemployed full-time 1.1275472914341786\n",
      " Italy -1.0956626808773617\n",
      " Vietnam -1.0683481322966883\n",
      "num persons worked for employer 0.9416708774433548\n",
      " 1 0.8075576048491324\n"
     ]
    },
    {
     "name": "stderr",
     "output_type": "stream",
     "text": [
      "C:\\ProgramData\\Anaconda3\\lib\\site-packages\\ipykernel_launcher.py:30: DeprecationWarning: `np.int` is a deprecated alias for the builtin `int`. To silence this warning, use `int` by itself. Doing this will not modify any behavior and is safe. When replacing `np.int`, you may wish to use e.g. `np.int64` or `np.int32` to specify the precision. If you wish to review your current use, check the release note link for additional information.\n",
      "Deprecated in NumPy 1.20; for more details and guidance: https://numpy.org/devdocs/release/1.20.0-notes.html#deprecations\n"
     ]
    }
   ],
   "source": [
    "# Predict testing labels\n",
    "predictions = _predict(X_test, w, b)\n",
    "\n",
    "predictions = predictions.reshape(test_size,)\n",
    "# change all the results back from (n, 1) to (n, )\n",
    "\n",
    "with open(output_fpath.format('logistic'), 'w') as f:\n",
    "    f.write('id,label\\n')\n",
    "    for i, label in enumerate(predictions):\n",
    "        f.write('{},{}\\n'.format(i, label))\n",
    "        \n",
    "# Print out the most significant weights\n",
    "w = w.reshape(data_dim,)\n",
    "ind = np.argsort(np.abs(w))[::-1]\n",
    "with open(X_test_fpath) as f:\n",
    "    content = f.readline().strip('\\n').split(',')\n",
    "features = np.array(content)\n",
    "for i in ind[0:10]:\n",
    "    print(features[i], w[i])"
   ]
  },
  {
   "cell_type": "markdown",
   "metadata": {},
   "source": [
    "### Kaggle results\n",
    "\n",
    "I finally get into the simple baseline!!! **Hurray**"
   ]
  },
  {
   "cell_type": "markdown",
   "metadata": {},
   "source": [
    "### Generative model\n",
    "\n",
    "I just copied the answers online, because of exhausted... by logistic model...."
   ]
  },
  {
   "cell_type": "code",
   "execution_count": 47,
   "metadata": {},
   "outputs": [],
   "source": [
    "# Parse csv files to numpy array\n",
    "with open(X_train_fpath) as f:\n",
    "    next(f)\n",
    "    X_train = np.array([line.strip('\\n').split(',')[1:] for line in f], dtype = float)\n",
    "with open(Y_train_fpath) as f:\n",
    "    next(f)\n",
    "    Y_train = np.array([line.strip('\\n').split(',')[1] for line in f], dtype = float)\n",
    "with open(X_test_fpath) as f:\n",
    "    next(f)\n",
    "    X_test = np.array([line.strip('\\n').split(',')[1:] for line in f], dtype = float)\n",
    "\n",
    "# Normalize training and testing data\n",
    "X_train, X_mean, X_std = _normalize(X_train, train = True)\n",
    "X_test, _, _= _normalize(X_test, train = False, specified_column = None, X_mean = X_mean, X_std = X_std)"
   ]
  },
  {
   "cell_type": "code",
   "execution_count": 48,
   "metadata": {},
   "outputs": [],
   "source": [
    "# Compute in-class mean\n",
    "X_train_0 = np.array([x for x, y in zip(X_train, Y_train) if y == 0])\n",
    "X_train_1 = np.array([x for x, y in zip(X_train, Y_train) if y == 1])\n",
    "\n",
    "mean_0 = np.mean(X_train_0, axis = 0)\n",
    "mean_1 = np.mean(X_train_1, axis = 0)  \n",
    "\n",
    "# Compute in-class covariance\n",
    "cov_0 = np.zeros((data_dim, data_dim))\n",
    "cov_1 = np.zeros((data_dim, data_dim))\n",
    "\n",
    "for x in X_train_0:\n",
    "    cov_0 += np.dot(np.transpose([x - mean_0]), [x - mean_0]) / X_train_0.shape[0]\n",
    "for x in X_train_1:\n",
    "    cov_1 += np.dot(np.transpose([x - mean_1]), [x - mean_1]) / X_train_1.shape[0]\n",
    "\n",
    "# Shared covariance is taken as a weighted average of individual in-class covariance.\n",
    "cov = (cov_0 * X_train_0.shape[0] + cov_1 * X_train_1.shape[0]) / (X_train_0.shape[0] + X_train_1.shape[0])"
   ]
  },
  {
   "cell_type": "code",
   "execution_count": 49,
   "metadata": {},
   "outputs": [
    {
     "name": "stdout",
     "output_type": "stream",
     "text": [
      "Training accuracy: 0.8727882630492481\n"
     ]
    },
    {
     "name": "stderr",
     "output_type": "stream",
     "text": [
      "C:\\ProgramData\\Anaconda3\\lib\\site-packages\\ipykernel_launcher.py:30: DeprecationWarning: `np.int` is a deprecated alias for the builtin `int`. To silence this warning, use `int` by itself. Doing this will not modify any behavior and is safe. When replacing `np.int`, you may wish to use e.g. `np.int64` or `np.int32` to specify the precision. If you wish to review your current use, check the release note link for additional information.\n",
      "Deprecated in NumPy 1.20; for more details and guidance: https://numpy.org/devdocs/release/1.20.0-notes.html#deprecations\n"
     ]
    }
   ],
   "source": [
    "# Compute inverse of covariance matrix.\n",
    "# Since covariance matrix may be nearly singular, np.linalg.inv() may give a large numerical error.\n",
    "# Via SVD decomposition, one can get matrix inverse efficiently and accurately.\n",
    "u, s, v = np.linalg.svd(cov, full_matrices=False)\n",
    "inv = np.matmul(v.T * 1 / s, u.T)\n",
    "\n",
    "# Directly compute weights and bias\n",
    "w = np.dot(inv, mean_0 - mean_1)\n",
    "b =  (-0.5) * np.dot(mean_0, np.dot(inv, mean_0)) + 0.5 * np.dot(mean_1, np.dot(inv, mean_1))\\\n",
    "    + np.log(float(X_train_0.shape[0]) / X_train_1.shape[0]) \n",
    "\n",
    "# Compute accuracy on training set\n",
    "Y_train_pred = 1 - _predict(X_train, w, b)\n",
    "print('Training accuracy: {}'.format(_accuracy(Y_train_pred, Y_train)))"
   ]
  },
  {
   "cell_type": "code",
   "execution_count": 50,
   "metadata": {},
   "outputs": [
    {
     "name": "stdout",
     "output_type": "stream",
     "text": [
      " Retail trade 8.33837890625\n",
      " 34 -6.43798828125\n",
      " 37 -5.947265625\n",
      " Tennessee 5.6171875\n",
      " Other service -5.38916015625\n",
      " 29 -4.90771484375\n",
      " Forestry and fisheries 4.765625\n",
      " Finance insurance and real estate -4.087890625\n",
      " 7 4.0361328125\n",
      " 3 -3.64453125\n"
     ]
    },
    {
     "name": "stderr",
     "output_type": "stream",
     "text": [
      "C:\\ProgramData\\Anaconda3\\lib\\site-packages\\ipykernel_launcher.py:30: DeprecationWarning: `np.int` is a deprecated alias for the builtin `int`. To silence this warning, use `int` by itself. Doing this will not modify any behavior and is safe. When replacing `np.int`, you may wish to use e.g. `np.int64` or `np.int32` to specify the precision. If you wish to review your current use, check the release note link for additional information.\n",
      "Deprecated in NumPy 1.20; for more details and guidance: https://numpy.org/devdocs/release/1.20.0-notes.html#deprecations\n"
     ]
    }
   ],
   "source": [
    "# Predict testing labels\n",
    "predictions = 1 - _predict(X_test, w, b)\n",
    "with open(output_fpath.format('generative'), 'w') as f:\n",
    "    f.write('id,label\\n')\n",
    "    for i, label in  enumerate(predictions):\n",
    "        f.write('{},{}\\n'.format(i, label))\n",
    "\n",
    "# Print out the most significant weights\n",
    "ind = np.argsort(np.abs(w))[::-1]\n",
    "with open(X_test_fpath) as f:\n",
    "    content = f.readline().strip('\\n').split(',')\n",
    "features = np.array(content)\n",
    "for i in ind[0:10]:\n",
    "    print(features[i], w[i])\n"
   ]
  },
  {
   "cell_type": "code",
   "execution_count": null,
   "metadata": {},
   "outputs": [],
   "source": []
  }
 ],
 "metadata": {
  "kernelspec": {
   "display_name": "Python 3",
   "language": "python",
   "name": "python3"
  },
  "language_info": {
   "codemirror_mode": {
    "name": "ipython",
    "version": 3
   },
   "file_extension": ".py",
   "mimetype": "text/x-python",
   "name": "python",
   "nbconvert_exporter": "python",
   "pygments_lexer": "ipython3",
   "version": "3.7.6"
  }
 },
 "nbformat": 4,
 "nbformat_minor": 4
}
